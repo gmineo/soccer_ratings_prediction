{
 "cells": [
  {
   "cell_type": "markdown",
   "metadata": {},
   "source": [
    "# Deal with WyScout Data"
   ]
  },
  {
   "cell_type": "code",
   "execution_count": 6,
   "metadata": {},
   "outputs": [],
   "source": [
    "#all python packages\n",
    "import pandas as pd\n",
    "import os\n",
    "from unidecode import unidecode\n",
    "import unicodedata\n",
    "import crawl_soccer_analysis"
   ]
  },
  {
   "cell_type": "code",
   "execution_count": 7,
   "metadata": {},
   "outputs": [],
   "source": [
    "DATA_PATH = '../data'"
   ]
  },
  {
   "cell_type": "markdown",
   "metadata": {},
   "source": [
    "#### Importing json files"
   ]
  },
  {
   "cell_type": "code",
   "execution_count": 8,
   "metadata": {},
   "outputs": [],
   "source": [
    "dfplayer = pd.read_json(os.path.join(DATA_PATH, 'players_new.json'),encoding = \"unicode-escape\")"
   ]
  },
  {
   "cell_type": "code",
   "execution_count": 9,
   "metadata": {},
   "outputs": [],
   "source": [
    "dfteam = pd.read_json(os.path.join(DATA_PATH,'teams_new.json'),encoding = \"unicode-escape\")"
   ]
  },
  {
   "cell_type": "markdown",
   "metadata": {},
   "source": [
    "#### reordering in alphabetycal order"
   ]
  },
  {
   "cell_type": "code",
   "execution_count": 10,
   "metadata": {},
   "outputs": [],
   "source": [
    "dfteam = dfteam.reindex(sorted(dfteam.columns), axis=1)"
   ]
  },
  {
   "cell_type": "code",
   "execution_count": 11,
   "metadata": {},
   "outputs": [],
   "source": [
    "dfplayer = dfplayer.reindex(sorted(dfplayer.columns), axis=1)"
   ]
  },
  {
   "cell_type": "markdown",
   "metadata": {},
   "source": [
    "#### call the specific function"
   ]
  },
  {
   "cell_type": "code",
   "execution_count": 12,
   "metadata": {},
   "outputs": [],
   "source": [
    "dataset = crawl_soccer_analysis.generate_csv_for_string_matching_from_wyscout_jsons(dfteam, dfplayer)"
   ]
  },
  {
   "cell_type": "code",
   "execution_count": 13,
   "metadata": {},
   "outputs": [
    {
     "data": {
      "text/html": [
       "<div>\n",
       "<style scoped>\n",
       "    .dataframe tbody tr th:only-of-type {\n",
       "        vertical-align: middle;\n",
       "    }\n",
       "\n",
       "    .dataframe tbody tr th {\n",
       "        vertical-align: top;\n",
       "    }\n",
       "\n",
       "    .dataframe thead th {\n",
       "        text-align: right;\n",
       "    }\n",
       "</style>\n",
       "<table border=\"1\" class=\"dataframe\">\n",
       "  <thead>\n",
       "    <tr style=\"text-align: right;\">\n",
       "      <th></th>\n",
       "      <th>id_team</th>\n",
       "      <th>id_player</th>\n",
       "      <th>short</th>\n",
       "      <th>first</th>\n",
       "      <th>last</th>\n",
       "      <th>role</th>\n",
       "      <th>team_name</th>\n",
       "    </tr>\n",
       "  </thead>\n",
       "  <tbody>\n",
       "    <tr>\n",
       "      <th>0</th>\n",
       "      <td>3158.0</td>\n",
       "      <td>20483</td>\n",
       "      <td>MIRANTE A</td>\n",
       "      <td>ANTONIO</td>\n",
       "      <td>MIRANTE</td>\n",
       "      <td>P</td>\n",
       "      <td>ROMA</td>\n",
       "    </tr>\n",
       "    <tr>\n",
       "      <th>1</th>\n",
       "      <td>3158.0</td>\n",
       "      <td>8200</td>\n",
       "      <td>N'ZONZI S</td>\n",
       "      <td>STEVEN</td>\n",
       "      <td>N'ZONZI</td>\n",
       "      <td>C</td>\n",
       "      <td>ROMA</td>\n",
       "    </tr>\n",
       "    <tr>\n",
       "      <th>2</th>\n",
       "      <td>3158.0</td>\n",
       "      <td>22566</td>\n",
       "      <td>FLORENZI A</td>\n",
       "      <td>ALESSANDRO</td>\n",
       "      <td>FLORENZI</td>\n",
       "      <td>C</td>\n",
       "      <td>ROMA</td>\n",
       "    </tr>\n",
       "    <tr>\n",
       "      <th>3</th>\n",
       "      <td>3158.0</td>\n",
       "      <td>20518</td>\n",
       "      <td>JUAN JESUS</td>\n",
       "      <td>JUAN GUILHERME</td>\n",
       "      <td>NUNES JESUS</td>\n",
       "      <td>D</td>\n",
       "      <td>ROMA</td>\n",
       "    </tr>\n",
       "    <tr>\n",
       "      <th>4</th>\n",
       "      <td>3158.0</td>\n",
       "      <td>8306</td>\n",
       "      <td>KOLAROV A</td>\n",
       "      <td>ALEKSANDAR</td>\n",
       "      <td>KOLAROV</td>\n",
       "      <td>D</td>\n",
       "      <td>ROMA</td>\n",
       "    </tr>\n",
       "    <tr>\n",
       "      <th>...</th>\n",
       "      <td>...</td>\n",
       "      <td>...</td>\n",
       "      <td>...</td>\n",
       "      <td>...</td>\n",
       "      <td>...</td>\n",
       "      <td>...</td>\n",
       "      <td>...</td>\n",
       "    </tr>\n",
       "    <tr>\n",
       "      <th>605</th>\n",
       "      <td>3157.0</td>\n",
       "      <td>239294</td>\n",
       "      <td>MAURI J</td>\n",
       "      <td>JOSE</td>\n",
       "      <td>MAURI</td>\n",
       "      <td>C</td>\n",
       "      <td>MILAN</td>\n",
       "    </tr>\n",
       "    <tr>\n",
       "      <th>606</th>\n",
       "      <td>3157.0</td>\n",
       "      <td>7949</td>\n",
       "      <td>PEPE REINA</td>\n",
       "      <td>JOSE MANUEL</td>\n",
       "      <td>REINA PAEZ</td>\n",
       "      <td>P</td>\n",
       "      <td>MILAN</td>\n",
       "    </tr>\n",
       "    <tr>\n",
       "      <th>607</th>\n",
       "      <td>3157.0</td>\n",
       "      <td>288663</td>\n",
       "      <td>CALDARA M</td>\n",
       "      <td>MATTIA</td>\n",
       "      <td>CALDARA</td>\n",
       "      <td>D</td>\n",
       "      <td>MILAN</td>\n",
       "    </tr>\n",
       "    <tr>\n",
       "      <th>608</th>\n",
       "      <td>3157.0</td>\n",
       "      <td>20390</td>\n",
       "      <td>ABATE I</td>\n",
       "      <td>IGNAZIO</td>\n",
       "      <td>ABATE</td>\n",
       "      <td>D</td>\n",
       "      <td>MILAN</td>\n",
       "    </tr>\n",
       "    <tr>\n",
       "      <th>609</th>\n",
       "      <td>3157.0</td>\n",
       "      <td>20449</td>\n",
       "      <td>BORINI F</td>\n",
       "      <td>FABIO</td>\n",
       "      <td>BORINI</td>\n",
       "      <td>A</td>\n",
       "      <td>MILAN</td>\n",
       "    </tr>\n",
       "  </tbody>\n",
       "</table>\n",
       "<p>610 rows × 7 columns</p>\n",
       "</div>"
      ],
      "text/plain": [
       "     id_team  id_player       short           first         last role  \\\n",
       "0     3158.0      20483   MIRANTE A         ANTONIO      MIRANTE    P   \n",
       "1     3158.0       8200   N'ZONZI S          STEVEN      N'ZONZI    C   \n",
       "2     3158.0      22566  FLORENZI A     ALESSANDRO      FLORENZI    C   \n",
       "3     3158.0      20518  JUAN JESUS  JUAN GUILHERME  NUNES JESUS    D   \n",
       "4     3158.0       8306   KOLAROV A      ALEKSANDAR      KOLAROV    D   \n",
       "..       ...        ...         ...             ...          ...  ...   \n",
       "605   3157.0     239294     MAURI J            JOSE        MAURI    C   \n",
       "606   3157.0       7949  PEPE REINA    JOSE MANUEL    REINA PAEZ    P   \n",
       "607   3157.0     288663   CALDARA M          MATTIA      CALDARA    D   \n",
       "608   3157.0      20390     ABATE I         IGNAZIO        ABATE    D   \n",
       "609   3157.0      20449    BORINI F           FABIO       BORINI    A   \n",
       "\n",
       "    team_name  \n",
       "0        ROMA  \n",
       "1        ROMA  \n",
       "2        ROMA  \n",
       "3        ROMA  \n",
       "4        ROMA  \n",
       "..        ...  \n",
       "605     MILAN  \n",
       "606     MILAN  \n",
       "607     MILAN  \n",
       "608     MILAN  \n",
       "609     MILAN  \n",
       "\n",
       "[610 rows x 7 columns]"
      ]
     },
     "execution_count": 13,
     "metadata": {},
     "output_type": "execute_result"
    }
   ],
   "source": [
    "dataset"
   ]
  },
  {
   "cell_type": "code",
   "execution_count": 14,
   "metadata": {},
   "outputs": [],
   "source": [
    "dataset.to_csv(os.path.join(DATA_PATH, 'wy_scout_player_association_name_id.csv'), index= False)"
   ]
  },
  {
   "cell_type": "code",
   "execution_count": null,
   "metadata": {},
   "outputs": [],
   "source": []
  }
 ],
 "metadata": {
  "kernelspec": {
   "display_name": "Python [conda:soccerenv]",
   "language": "python",
   "name": "soccerenv"
  },
  "language_info": {
   "codemirror_mode": {
    "name": "ipython",
    "version": 3
   },
   "file_extension": ".py",
   "mimetype": "text/x-python",
   "name": "python",
   "nbconvert_exporter": "python",
   "pygments_lexer": "ipython3",
   "version": "3.7.6"
  }
 },
 "nbformat": 4,
 "nbformat_minor": 2
}
