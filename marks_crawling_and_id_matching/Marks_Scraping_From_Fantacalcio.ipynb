{
 "cells": [
  {
   "cell_type": "markdown",
   "metadata": {},
   "source": [
    "# Crawling Excel from Fantacalcio\n",
    "\n",
    "In particular this script:\n",
    "    1. Take for specified **season** and **days** an xlsx. From Fantacalcio site, then using these data.\n",
    "    2. Create a Dataframe for each player and day the corrispective **mark**\n",
    "The Dataframe in output will have a sructure composed by Team, Day, Player, Role and Score \n",
    "\n",
    "Data are crawled from https://www.fantacalcio.it/voti-fantacalcio-serie-a-mobile. \n",
    "The only input needed are the season string a a representative t, probably (-4) could work in all the instances"
   ]
  },
  {
   "cell_type": "code",
   "execution_count": 1,
   "metadata": {},
   "outputs": [],
   "source": [
    "#All Python Packages Needed\n",
    "import requests\n",
    "from time import sleep\n",
    "import pandas as pd\n",
    "import glob\n",
    "import os\n",
    "import re\n",
    "import shutil\n",
    "import crawl_soccer_analysis"
   ]
  },
  {
   "cell_type": "markdown",
   "metadata": {},
   "source": [
    "### Crawling Phase\n",
    "<a href=\"https://www.fantacalcio.it/\" >From Fantacalcio</a>\n",
    "\n",
    "For each season, the script request gameweek per gameweek an xlsx file.\n",
    "\n",
    "At the end we store inside the marks folder 38 xlsx files each of one contain the single gameweek"
   ]
  },
  {
   "cell_type": "code",
   "execution_count": 2,
   "metadata": {},
   "outputs": [],
   "source": [
    "#Italian Serie A has 38 days\n",
    "days = range(1,39)"
   ]
  },
  {
   "cell_type": "code",
   "execution_count": 3,
   "metadata": {},
   "outputs": [],
   "source": [
    "#For season 2017-2018\n",
    "season = '2017-18'\n",
    "#Representative t\n",
    "t = '-4'"
   ]
  },
  {
   "cell_type": "code",
   "execution_count": 4,
   "metadata": {},
   "outputs": [],
   "source": [
    "data_path_to_store_fantacalcio_marks = '../'"
   ]
  },
  {
   "cell_type": "code",
   "execution_count": 5,
   "metadata": {},
   "outputs": [
    {
     "name": "stdout",
     "output_type": "stream",
     "text": [
      "CPU times: user 1.12 s, sys: 140 ms, total: 1.26 s\n",
      "Wall time: 51.1 s\n"
     ]
    }
   ],
   "source": [
    "%%time\n",
    "crawl_soccer_analysis.crawlMarks(days, season, t, data_path_to_store_fantacalcio_marks)"
   ]
  },
  {
   "cell_type": "markdown",
   "metadata": {},
   "source": [
    "### Merging Phase\n",
    "The merging phase take all the xlsx file inside the marks folder and merge all the records inside a single dataframe extracting the relevant information for our task."
   ]
  },
  {
   "cell_type": "code",
   "execution_count": 7,
   "metadata": {},
   "outputs": [
    {
     "name": "stdout",
     "output_type": "stream",
     "text": [
      "../marks/2017-18-17.xlsx\n",
      "../marks/2017-18-01.xlsx\n",
      "../marks/2017-18-21.xlsx\n",
      "../marks/2017-18-37.xlsx\n",
      "../marks/2017-18-36.xlsx\n",
      "../marks/2017-18-20.xlsx\n",
      "../marks/2017-18-16.xlsx\n",
      "../marks/2017-18-27.xlsx\n",
      "../marks/2017-18-31.xlsx\n",
      "../marks/2017-18-11.xlsx\n",
      "../marks/2017-18-07.xlsx\n",
      "../marks/2017-18-06.xlsx\n",
      "../marks/2017-18-10.xlsx\n",
      "../marks/2017-18-30.xlsx\n",
      "../marks/2017-18-26.xlsx\n",
      "../marks/2017-18-33.xlsx\n",
      "../marks/2017-18-25.xlsx\n",
      "../marks/2017-18-09.xlsx\n",
      "../marks/2017-18-29.xlsx\n",
      "../marks/2017-18-05.xlsx\n",
      "../marks/2017-18-13.xlsx\n",
      "../marks/2017-18-12.xlsx\n",
      "../marks/2017-18-04.xlsx\n",
      "../marks/2017-18-28.xlsx\n",
      "../marks/2017-18-08.xlsx\n",
      "../marks/2017-18-24.xlsx\n",
      "../marks/2017-18-32.xlsx\n",
      "../marks/2017-18-03.xlsx\n",
      "../marks/2017-18-15.xlsx\n",
      "../marks/2017-18-35.xlsx\n",
      "../marks/2017-18-23.xlsx\n",
      "../marks/2017-18-19.xlsx\n",
      "../marks/2017-18-18.xlsx\n",
      "../marks/2017-18-22.xlsx\n",
      "../marks/2017-18-34.xlsx\n",
      "../marks/2017-18-14.xlsx\n",
      "../marks/2017-18-02.xlsx\n",
      "../marks/2017-18-38.xlsx\n"
     ]
    }
   ],
   "source": [
    "dataset = crawl_soccer_analysis.merge_fantacalcio_scraped_ratings(data_path_to_store_fantacalcio_marks)"
   ]
  },
  {
   "cell_type": "code",
   "execution_count": 8,
   "metadata": {
    "scrolled": true
   },
   "outputs": [
    {
     "data": {
      "text/html": [
       "<div>\n",
       "<style scoped>\n",
       "    .dataframe tbody tr th:only-of-type {\n",
       "        vertical-align: middle;\n",
       "    }\n",
       "\n",
       "    .dataframe tbody tr th {\n",
       "        vertical-align: top;\n",
       "    }\n",
       "\n",
       "    .dataframe thead th {\n",
       "        text-align: right;\n",
       "    }\n",
       "</style>\n",
       "<table border=\"1\" class=\"dataframe\">\n",
       "  <thead>\n",
       "    <tr style=\"text-align: right;\">\n",
       "      <th></th>\n",
       "      <th>team</th>\n",
       "      <th>match_day</th>\n",
       "      <th>player</th>\n",
       "      <th>position</th>\n",
       "      <th>fantacalcio_score</th>\n",
       "    </tr>\n",
       "  </thead>\n",
       "  <tbody>\n",
       "    <tr>\n",
       "      <th>0</th>\n",
       "      <td>ATALANTA</td>\n",
       "      <td>1</td>\n",
       "      <td>BERISHA E.</td>\n",
       "      <td>P</td>\n",
       "      <td>6.0</td>\n",
       "    </tr>\n",
       "    <tr>\n",
       "      <th>1</th>\n",
       "      <td>ATALANTA</td>\n",
       "      <td>1</td>\n",
       "      <td>CALDARA</td>\n",
       "      <td>D</td>\n",
       "      <td>7.0</td>\n",
       "    </tr>\n",
       "    <tr>\n",
       "      <th>2</th>\n",
       "      <td>ATALANTA</td>\n",
       "      <td>1</td>\n",
       "      <td>HATEBOER</td>\n",
       "      <td>D</td>\n",
       "      <td>6.0</td>\n",
       "    </tr>\n",
       "    <tr>\n",
       "      <th>3</th>\n",
       "      <td>ATALANTA</td>\n",
       "      <td>1</td>\n",
       "      <td>MASIELLO A.</td>\n",
       "      <td>D</td>\n",
       "      <td>5.5</td>\n",
       "    </tr>\n",
       "    <tr>\n",
       "      <th>4</th>\n",
       "      <td>ATALANTA</td>\n",
       "      <td>1</td>\n",
       "      <td>PALOMINO</td>\n",
       "      <td>D</td>\n",
       "      <td>6.0</td>\n",
       "    </tr>\n",
       "    <tr>\n",
       "      <th>...</th>\n",
       "      <td>...</td>\n",
       "      <td>...</td>\n",
       "      <td>...</td>\n",
       "      <td>...</td>\n",
       "      <td>...</td>\n",
       "    </tr>\n",
       "    <tr>\n",
       "      <th>10583</th>\n",
       "      <td>VERONA</td>\n",
       "      <td>38</td>\n",
       "      <td>AARONS</td>\n",
       "      <td>C</td>\n",
       "      <td>5.5</td>\n",
       "    </tr>\n",
       "    <tr>\n",
       "      <th>10584</th>\n",
       "      <td>VERONA</td>\n",
       "      <td>38</td>\n",
       "      <td>MATOS</td>\n",
       "      <td>A</td>\n",
       "      <td>5.5</td>\n",
       "    </tr>\n",
       "    <tr>\n",
       "      <th>10585</th>\n",
       "      <td>VERONA</td>\n",
       "      <td>38</td>\n",
       "      <td>CERCI</td>\n",
       "      <td>A</td>\n",
       "      <td>6.5</td>\n",
       "    </tr>\n",
       "    <tr>\n",
       "      <th>10586</th>\n",
       "      <td>VERONA</td>\n",
       "      <td>38</td>\n",
       "      <td>FARES</td>\n",
       "      <td>A</td>\n",
       "      <td>5.5</td>\n",
       "    </tr>\n",
       "    <tr>\n",
       "      <th>10587</th>\n",
       "      <td>VERONA</td>\n",
       "      <td>38</td>\n",
       "      <td>PETKOVIC</td>\n",
       "      <td>A</td>\n",
       "      <td>6.0</td>\n",
       "    </tr>\n",
       "  </tbody>\n",
       "</table>\n",
       "<p>10588 rows × 5 columns</p>\n",
       "</div>"
      ],
      "text/plain": [
       "           team  match_day       player position  fantacalcio_score\n",
       "0      ATALANTA          1   BERISHA E.        P                6.0\n",
       "1      ATALANTA          1      CALDARA        D                7.0\n",
       "2      ATALANTA          1     HATEBOER        D                6.0\n",
       "3      ATALANTA          1  MASIELLO A.        D                5.5\n",
       "4      ATALANTA          1     PALOMINO        D                6.0\n",
       "...         ...        ...          ...      ...                ...\n",
       "10583    VERONA         38       AARONS        C                5.5\n",
       "10584    VERONA         38        MATOS        A                5.5\n",
       "10585    VERONA         38        CERCI        A                6.5\n",
       "10586    VERONA         38        FARES        A                5.5\n",
       "10587    VERONA         38     PETKOVIC        A                6.0\n",
       "\n",
       "[10588 rows x 5 columns]"
      ]
     },
     "execution_count": 8,
     "metadata": {},
     "output_type": "execute_result"
    }
   ],
   "source": [
    "dataset"
   ]
  },
  {
   "cell_type": "code",
   "execution_count": 9,
   "metadata": {},
   "outputs": [
    {
     "data": {
      "text/html": [
       "<div>\n",
       "<style scoped>\n",
       "    .dataframe tbody tr th:only-of-type {\n",
       "        vertical-align: middle;\n",
       "    }\n",
       "\n",
       "    .dataframe tbody tr th {\n",
       "        vertical-align: top;\n",
       "    }\n",
       "\n",
       "    .dataframe thead th {\n",
       "        text-align: right;\n",
       "    }\n",
       "</style>\n",
       "<table border=\"1\" class=\"dataframe\">\n",
       "  <thead>\n",
       "    <tr style=\"text-align: right;\">\n",
       "      <th></th>\n",
       "      <th>match_day</th>\n",
       "      <th>fantacalcio_score</th>\n",
       "    </tr>\n",
       "  </thead>\n",
       "  <tbody>\n",
       "    <tr>\n",
       "      <th>count</th>\n",
       "      <td>10588.000000</td>\n",
       "      <td>10588.000000</td>\n",
       "    </tr>\n",
       "    <tr>\n",
       "      <th>mean</th>\n",
       "      <td>19.509917</td>\n",
       "      <td>5.941396</td>\n",
       "    </tr>\n",
       "    <tr>\n",
       "      <th>std</th>\n",
       "      <td>10.966240</td>\n",
       "      <td>0.652312</td>\n",
       "    </tr>\n",
       "    <tr>\n",
       "      <th>min</th>\n",
       "      <td>1.000000</td>\n",
       "      <td>3.000000</td>\n",
       "    </tr>\n",
       "    <tr>\n",
       "      <th>25%</th>\n",
       "      <td>10.000000</td>\n",
       "      <td>5.500000</td>\n",
       "    </tr>\n",
       "    <tr>\n",
       "      <th>50%</th>\n",
       "      <td>20.000000</td>\n",
       "      <td>6.000000</td>\n",
       "    </tr>\n",
       "    <tr>\n",
       "      <th>75%</th>\n",
       "      <td>29.000000</td>\n",
       "      <td>6.500000</td>\n",
       "    </tr>\n",
       "    <tr>\n",
       "      <th>max</th>\n",
       "      <td>38.000000</td>\n",
       "      <td>9.000000</td>\n",
       "    </tr>\n",
       "  </tbody>\n",
       "</table>\n",
       "</div>"
      ],
      "text/plain": [
       "          match_day  fantacalcio_score\n",
       "count  10588.000000       10588.000000\n",
       "mean      19.509917           5.941396\n",
       "std       10.966240           0.652312\n",
       "min        1.000000           3.000000\n",
       "25%       10.000000           5.500000\n",
       "50%       20.000000           6.000000\n",
       "75%       29.000000           6.500000\n",
       "max       38.000000           9.000000"
      ]
     },
     "execution_count": 9,
     "metadata": {},
     "output_type": "execute_result"
    }
   ],
   "source": [
    "dataset.describe()"
   ]
  },
  {
   "cell_type": "code",
   "execution_count": 10,
   "metadata": {},
   "outputs": [
    {
     "data": {
      "text/plain": [
       "team                  object\n",
       "match_day              int64\n",
       "player                object\n",
       "position              object\n",
       "fantacalcio_score    float64\n",
       "dtype: object"
      ]
     },
     "execution_count": 10,
     "metadata": {},
     "output_type": "execute_result"
    }
   ],
   "source": [
    "dataset.dtypes"
   ]
  },
  {
   "cell_type": "markdown",
   "metadata": {},
   "source": [
    "modify the path based on the season"
   ]
  },
  {
   "cell_type": "code",
   "execution_count": 11,
   "metadata": {},
   "outputs": [],
   "source": [
    "data_path_to_store_fantacalcio_result_csv = os.path.join(data_path_to_store_fantacalcio_marks, 'data', 'fantacalcioScore_2017_2018.csv')\n",
    "dataset.to_csv(data_path_to_store_fantacalcio_result_csv, index = False)"
   ]
  },
  {
   "cell_type": "code",
   "execution_count": 12,
   "metadata": {},
   "outputs": [],
   "source": [
    "shutil.rmtree(os.path.join(data_path_to_store_fantacalcio_marks, 'marks'), ignore_errors=True)"
   ]
  },
  {
   "cell_type": "code",
   "execution_count": null,
   "metadata": {},
   "outputs": [],
   "source": []
  }
 ],
 "metadata": {
  "kernelspec": {
   "display_name": "Python [conda:soccerenv]",
   "language": "python",
   "name": "soccerenv"
  },
  "language_info": {
   "codemirror_mode": {
    "name": "ipython",
    "version": 3
   },
   "file_extension": ".py",
   "mimetype": "text/x-python",
   "name": "python",
   "nbconvert_exporter": "python",
   "pygments_lexer": "ipython3",
   "version": "3.7.6"
  }
 },
 "nbformat": 4,
 "nbformat_minor": 2
}
