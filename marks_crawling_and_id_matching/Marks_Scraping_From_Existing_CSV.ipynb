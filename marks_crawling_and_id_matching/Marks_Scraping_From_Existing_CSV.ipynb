{
 "cells": [
  {
   "cell_type": "markdown",
   "metadata": {},
   "source": [
    "# Crawling Player Score from Existing CSV\n",
    "\n",
    "For each match_day all the information regarding Player are extract for all different evaluation method"
   ]
  },
  {
   "cell_type": "markdown",
   "metadata": {},
   "source": [
    "This Notebook required to have a csv stored inside a folder fantavoti_G-CDS-TS-numberseason, this csv need to be structured as:\n",
    "\n",
    "ROLE, MATCH_DAY, TEAM_NAME, PLAYER_NAME, VM, GF, GS, AU, AS, VR, GF, GS, AU, AS, VT, GF, GS, AU, AS, SB, PA, TR, SU, VM, VR, VT, M2, M3\n",
    "\n",
    "In particular this format of csv could be to easy access through the link: https://www.pianetafanta.it/Voti-Ufficiali-Archivio.asp. Giving the right **query** we could retrive a whole season.\n",
    "\n",
    "This notebook Address the 2017-2018 season"
   ]
  },
  {
   "cell_type": "markdown",
   "metadata": {},
   "source": [
    "#### Setup"
   ]
  },
  {
   "cell_type": "code",
   "execution_count": 12,
   "metadata": {},
   "outputs": [],
   "source": [
    "#All python packages\n",
    "import requests\n",
    "from time import sleep\n",
    "import pandas as pd\n",
    "import glob\n",
    "import os\n",
    "import re\n",
    "import unidecode\n",
    "import crawl_soccer_analysis"
   ]
  },
  {
   "cell_type": "code",
   "execution_count": 13,
   "metadata": {},
   "outputs": [],
   "source": [
    "#path of csv of pianeta-fanta ratings\n",
    "DATA_PATH = '../data/'\n",
    "path = DATA_PATH + 'fantavoti_G-CDS-TS-20172018'"
   ]
  },
  {
   "cell_type": "code",
   "execution_count": 14,
   "metadata": {},
   "outputs": [
    {
     "name": "stdout",
     "output_type": "stream",
     "text": [
      "../data/fantavoti_G-CDS-TS-20172018/2017-2018-other.csv\n"
     ]
    }
   ],
   "source": [
    "dataset = crawl_soccer_analysis.merge_all_the_others_downloaded_ratings(path)"
   ]
  },
  {
   "cell_type": "code",
   "execution_count": 15,
   "metadata": {
    "scrolled": false
   },
   "outputs": [
    {
     "data": {
      "text/html": [
       "<div>\n",
       "<style scoped>\n",
       "    .dataframe tbody tr th:only-of-type {\n",
       "        vertical-align: middle;\n",
       "    }\n",
       "\n",
       "    .dataframe tbody tr th {\n",
       "        vertical-align: top;\n",
       "    }\n",
       "\n",
       "    .dataframe thead th {\n",
       "        text-align: right;\n",
       "    }\n",
       "</style>\n",
       "<table border=\"1\" class=\"dataframe\">\n",
       "  <thead>\n",
       "    <tr style=\"text-align: right;\">\n",
       "      <th></th>\n",
       "      <th>team</th>\n",
       "      <th>match_day</th>\n",
       "      <th>player</th>\n",
       "      <th>position</th>\n",
       "      <th>gazzetta_score</th>\n",
       "      <th>corriere_score</th>\n",
       "      <th>tuttosport_score</th>\n",
       "    </tr>\n",
       "  </thead>\n",
       "  <tbody>\n",
       "    <tr>\n",
       "      <th>0</th>\n",
       "      <td>ATALANTA</td>\n",
       "      <td>1</td>\n",
       "      <td>BERISHA E</td>\n",
       "      <td>P</td>\n",
       "      <td>5.5</td>\n",
       "      <td>6.0</td>\n",
       "      <td>6.0</td>\n",
       "    </tr>\n",
       "    <tr>\n",
       "      <th>1</th>\n",
       "      <td>ATALANTA</td>\n",
       "      <td>1</td>\n",
       "      <td>GOSENS R</td>\n",
       "      <td>D</td>\n",
       "      <td>5.0</td>\n",
       "      <td>5.5</td>\n",
       "      <td>5.0</td>\n",
       "    </tr>\n",
       "    <tr>\n",
       "      <th>2</th>\n",
       "      <td>ATALANTA</td>\n",
       "      <td>1</td>\n",
       "      <td>HATEBOER H</td>\n",
       "      <td>D</td>\n",
       "      <td>6.0</td>\n",
       "      <td>5.5</td>\n",
       "      <td>6.0</td>\n",
       "    </tr>\n",
       "    <tr>\n",
       "      <th>3</th>\n",
       "      <td>ATALANTA</td>\n",
       "      <td>1</td>\n",
       "      <td>MASIELLO A</td>\n",
       "      <td>D</td>\n",
       "      <td>5.5</td>\n",
       "      <td>6.0</td>\n",
       "      <td>5.5</td>\n",
       "    </tr>\n",
       "    <tr>\n",
       "      <th>4</th>\n",
       "      <td>ATALANTA</td>\n",
       "      <td>1</td>\n",
       "      <td>PALOMINO J</td>\n",
       "      <td>D</td>\n",
       "      <td>6.0</td>\n",
       "      <td>6.0</td>\n",
       "      <td>6.0</td>\n",
       "    </tr>\n",
       "    <tr>\n",
       "      <th>...</th>\n",
       "      <td>...</td>\n",
       "      <td>...</td>\n",
       "      <td>...</td>\n",
       "      <td>...</td>\n",
       "      <td>...</td>\n",
       "      <td>...</td>\n",
       "      <td>...</td>\n",
       "    </tr>\n",
       "    <tr>\n",
       "      <th>9783</th>\n",
       "      <td>VERONA</td>\n",
       "      <td>38</td>\n",
       "      <td>BEARZOTTI E</td>\n",
       "      <td>C</td>\n",
       "      <td>5.0</td>\n",
       "      <td>5.0</td>\n",
       "      <td>4.5</td>\n",
       "    </tr>\n",
       "    <tr>\n",
       "      <th>9784</th>\n",
       "      <td>VERONA</td>\n",
       "      <td>38</td>\n",
       "      <td>AARONS R</td>\n",
       "      <td>C</td>\n",
       "      <td>5.0</td>\n",
       "      <td>4.5</td>\n",
       "      <td>5.5</td>\n",
       "    </tr>\n",
       "    <tr>\n",
       "      <th>9785</th>\n",
       "      <td>VERONA</td>\n",
       "      <td>38</td>\n",
       "      <td>DANZI A</td>\n",
       "      <td>C</td>\n",
       "      <td>6.0</td>\n",
       "      <td>6.0</td>\n",
       "      <td>5.0</td>\n",
       "    </tr>\n",
       "    <tr>\n",
       "      <th>9786</th>\n",
       "      <td>VERONA</td>\n",
       "      <td>38</td>\n",
       "      <td>CERCI A</td>\n",
       "      <td>A</td>\n",
       "      <td>6.5</td>\n",
       "      <td>6.0</td>\n",
       "      <td>6.5</td>\n",
       "    </tr>\n",
       "    <tr>\n",
       "      <th>9787</th>\n",
       "      <td>VERONA</td>\n",
       "      <td>38</td>\n",
       "      <td>MATOS R</td>\n",
       "      <td>A</td>\n",
       "      <td>5.0</td>\n",
       "      <td>6.0</td>\n",
       "      <td>6.0</td>\n",
       "    </tr>\n",
       "  </tbody>\n",
       "</table>\n",
       "<p>9788 rows × 7 columns</p>\n",
       "</div>"
      ],
      "text/plain": [
       "          team  match_day       player position  gazzetta_score  \\\n",
       "0     ATALANTA          1    BERISHA E        P             5.5   \n",
       "1     ATALANTA          1     GOSENS R        D             5.0   \n",
       "2     ATALANTA          1   HATEBOER H        D             6.0   \n",
       "3     ATALANTA          1   MASIELLO A        D             5.5   \n",
       "4     ATALANTA          1   PALOMINO J        D             6.0   \n",
       "...        ...        ...          ...      ...             ...   \n",
       "9783    VERONA         38  BEARZOTTI E        C             5.0   \n",
       "9784    VERONA         38     AARONS R        C             5.0   \n",
       "9785    VERONA         38      DANZI A        C             6.0   \n",
       "9786    VERONA         38      CERCI A        A             6.5   \n",
       "9787    VERONA         38      MATOS R        A             5.0   \n",
       "\n",
       "      corriere_score  tuttosport_score  \n",
       "0                6.0               6.0  \n",
       "1                5.5               5.0  \n",
       "2                5.5               6.0  \n",
       "3                6.0               5.5  \n",
       "4                6.0               6.0  \n",
       "...              ...               ...  \n",
       "9783             5.0               4.5  \n",
       "9784             4.5               5.5  \n",
       "9785             6.0               5.0  \n",
       "9786             6.0               6.5  \n",
       "9787             6.0               6.0  \n",
       "\n",
       "[9788 rows x 7 columns]"
      ]
     },
     "execution_count": 15,
     "metadata": {},
     "output_type": "execute_result"
    }
   ],
   "source": [
    "dataset"
   ]
  },
  {
   "cell_type": "code",
   "execution_count": 16,
   "metadata": {},
   "outputs": [],
   "source": [
    "dataset['match_day'] = dataset['match_day'].astype(int)"
   ]
  },
  {
   "cell_type": "code",
   "execution_count": 17,
   "metadata": {
    "scrolled": true
   },
   "outputs": [
    {
     "data": {
      "text/plain": [
       "team                 object\n",
       "match_day             int64\n",
       "player               object\n",
       "position             object\n",
       "gazzetta_score      float64\n",
       "corriere_score      float64\n",
       "tuttosport_score    float64\n",
       "dtype: object"
      ]
     },
     "execution_count": 17,
     "metadata": {},
     "output_type": "execute_result"
    }
   ],
   "source": [
    "dataset.dtypes"
   ]
  },
  {
   "cell_type": "markdown",
   "metadata": {},
   "source": [
    "save inside the data folder"
   ]
  },
  {
   "cell_type": "code",
   "execution_count": 18,
   "metadata": {},
   "outputs": [],
   "source": [
    "dataset.to_csv(os.path.join(DATA_PATH, 'alltheotherScore_2017_2018.csv'),index=False)"
   ]
  },
  {
   "cell_type": "code",
   "execution_count": null,
   "metadata": {},
   "outputs": [],
   "source": []
  }
 ],
 "metadata": {
  "kernelspec": {
   "display_name": "Python 3",
   "language": "python",
   "name": "python3"
  },
  "language_info": {
   "codemirror_mode": {
    "name": "ipython",
    "version": 3
   },
   "file_extension": ".py",
   "mimetype": "text/x-python",
   "name": "python",
   "nbconvert_exporter": "python",
   "pygments_lexer": "ipython3",
   "version": "3.7.6"
  }
 },
 "nbformat": 4,
 "nbformat_minor": 2
}
