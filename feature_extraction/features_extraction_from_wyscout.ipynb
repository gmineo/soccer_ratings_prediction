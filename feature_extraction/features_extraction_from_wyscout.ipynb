{
 "cells": [
  {
   "cell_type": "code",
   "execution_count": null,
   "metadata": {},
   "outputs": [],
   "source": [
    "#all python packages\n",
    "import pandas as pd\n",
    "from pprint import pprint\n",
    "import os\n",
    "import feature_extraction_soccer_analysis"
   ]
  },
  {
   "cell_type": "markdown",
   "metadata": {},
   "source": [
    "import datasets"
   ]
  },
  {
   "cell_type": "code",
   "execution_count": null,
   "metadata": {},
   "outputs": [],
   "source": [
    "DATA_PATH = r'../data'"
   ]
  },
  {
   "cell_type": "code",
   "execution_count": null,
   "metadata": {},
   "outputs": [],
   "source": [
    "dfplayer = pd.read_json(os.path.join(DATA_PATH, 'players_new.json'),encoding = \"unicode-escape\")\n",
    "dfteam = pd.read_json(os.path.join(DATA_PATH, 'teams_new.json'),encoding = \"unicode-escape\")\n",
    "dfmatc = pd.read_json(os.path.join(DATA_PATH, 'matches_Italy.json'), encoding = \"unicode-escape\")\n",
    "dfevent = pd.read_json(os.path.join(DATA_PATH, 'events_Italy.json'), encoding = \"unicode-escape\")"
   ]
  },
  {
   "cell_type": "code",
   "execution_count": null,
   "metadata": {},
   "outputs": [],
   "source": [
    "#we want only italian serie a competitions id 524\n",
    "SERIE_A = 524\n",
    "dfmatc = dfmatc[dfmatc['competitionId'] == SERIE_A]\n",
    "dfmatc = dfmatc.reindex(sorted(dfmatc.columns), axis=1)\n",
    "dfevent = dfevent.reindex(sorted(dfevent.columns), axis=1)\n",
    "dfplayer = dfplayer.reindex(sorted(dfplayer.columns), axis = 1)\n",
    "dfteam = dfteam.reindex(sorted(dfteam.columns), axis=1)"
   ]
  },
  {
   "cell_type": "markdown",
   "metadata": {},
   "source": [
    "extract players that played during matches of the season. \n",
    "**Note**: order of the columns is important. "
   ]
  },
  {
   "cell_type": "code",
   "execution_count": null,
   "metadata": {},
   "outputs": [],
   "source": [
    "dfToFill = feature_extraction_soccer_analysis.playerMatchExtraction(dfmatc)\n",
    "dfToFill = dfToFill[['match_id', 'gameweek', 'team_id', 'playerId', 'minutes_played', 'red_card', 'yellow_card', 'goals']]"
   ]
  },
  {
   "cell_type": "code",
   "execution_count": null,
   "metadata": {},
   "outputs": [],
   "source": [
    "dfToFill.head()"
   ]
  },
  {
   "cell_type": "markdown",
   "metadata": {},
   "source": [
    "extract quantity and quality features (plus dangerous ones). Before merging the dangerous **is needed to be computed the contribution one**"
   ]
  },
  {
   "cell_type": "code",
   "execution_count": null,
   "metadata": {},
   "outputs": [],
   "source": [
    "dfToFill, dfDangerousFeatures = feature_extraction_soccer_analysis.qualityFeaturesComputationManager(dfToFill, dfevent)"
   ]
  },
  {
   "cell_type": "markdown",
   "metadata": {},
   "source": [
    "#### Replace Null in Goals"
   ]
  },
  {
   "cell_type": "code",
   "execution_count": null,
   "metadata": {},
   "outputs": [],
   "source": [
    "newGoal = []\n",
    "for player in dfToFill.values:\n",
    "    if(player[7] == 'null'):\n",
    "        newGoal.append(0)\n",
    "    else:\n",
    "        newGoal.append(player[7])\n",
    "dfToFill['goals'] = newGoal"
   ]
  },
  {
   "cell_type": "markdown",
   "metadata": {},
   "source": [
    "#### Quality Features"
   ]
  },
  {
   "cell_type": "code",
   "execution_count": null,
   "metadata": {},
   "outputs": [],
   "source": [
    "totalQuality = feature_extraction_soccer_analysis.computeTotalForEachMatchTeam(dfToFill)"
   ]
  },
  {
   "cell_type": "code",
   "execution_count": null,
   "metadata": {},
   "outputs": [],
   "source": [
    "dfToFill = feature_extraction_soccer_analysis.computeContributionFeatures(dfToFill, totalQuality)"
   ]
  },
  {
   "cell_type": "code",
   "execution_count": null,
   "metadata": {
    "scrolled": false
   },
   "outputs": [],
   "source": [
    "dfToFill"
   ]
  },
  {
   "cell_type": "markdown",
   "metadata": {},
   "source": [
    "#### Add the deangerous features already computed"
   ]
  },
  {
   "cell_type": "code",
   "execution_count": null,
   "metadata": {},
   "outputs": [],
   "source": [
    "dfDangerousFeatures.rename(columns={'id':'playerId'}, inplace=True)\n",
    "dfDangerousFeatures.rename(columns={'match':'match_id'}, inplace=True)\n",
    "dfToFill = pd.merge(dfToFill, dfDangerousFeatures, on=['match_id', 'playerId'])\n",
    "dfToFill.rename(columns={'playerId':'player_id'}, inplace=True)"
   ]
  },
  {
   "cell_type": "markdown",
   "metadata": {},
   "source": [
    "#### Contextual Features Computation"
   ]
  },
  {
   "cell_type": "code",
   "execution_count": null,
   "metadata": {},
   "outputs": [],
   "source": [
    "dfToCompletion = dfToFill.copy(deep=True)"
   ]
  },
  {
   "cell_type": "code",
   "execution_count": null,
   "metadata": {},
   "outputs": [],
   "source": [
    "dfToCompletion = feature_extraction_soccer_analysis.meanPassesRecoil(dfToCompletion, dfevent)"
   ]
  },
  {
   "cell_type": "code",
   "execution_count": null,
   "metadata": {},
   "outputs": [],
   "source": [
    "dfToCompletion = feature_extraction_soccer_analysis.centerOfGravity(dfToCompletion, dfevent)"
   ]
  },
  {
   "cell_type": "code",
   "execution_count": null,
   "metadata": {},
   "outputs": [],
   "source": [
    "dfToCompletion = feature_extraction_soccer_analysis.computeEjectionFeature(dfToCompletion)"
   ]
  },
  {
   "cell_type": "code",
   "execution_count": null,
   "metadata": {},
   "outputs": [],
   "source": [
    "dfToCompletion = feature_extraction_soccer_analysis.computeCountryOfThePlayer(dfToCompletion, dfplayer)"
   ]
  },
  {
   "cell_type": "code",
   "execution_count": null,
   "metadata": {},
   "outputs": [],
   "source": [
    "dfToCompletion = feature_extraction_soccer_analysis.computeBigMatchFeature(dfToCompletion, dfmatc)"
   ]
  },
  {
   "cell_type": "code",
   "execution_count": null,
   "metadata": {},
   "outputs": [],
   "source": [
    "dfToCompletion = feature_extraction_soccer_analysis.computeLastContextualVariables(dfToCompletion, dfmatc, dfteam)"
   ]
  },
  {
   "cell_type": "code",
   "execution_count": null,
   "metadata": {},
   "outputs": [],
   "source": [
    "dfToCompletion = feature_extraction_soccer_analysis.computeAgeForPlayer(dfToCompletion, dfplayer)"
   ]
  },
  {
   "cell_type": "code",
   "execution_count": null,
   "metadata": {},
   "outputs": [],
   "source": [
    "dfBetting = pd.read_csv(os.path.join(DATA_PATH, 'betting.csv'))"
   ]
  },
  {
   "cell_type": "code",
   "execution_count": null,
   "metadata": {
    "scrolled": true
   },
   "outputs": [],
   "source": [
    "dfToCompletion = feature_extraction_soccer_analysis.computeExpectation(dfToCompletion, dfBetting)"
   ]
  },
  {
   "cell_type": "code",
   "execution_count": null,
   "metadata": {},
   "outputs": [],
   "source": [
    "dfToCompletion.head(1)"
   ]
  },
  {
   "cell_type": "markdown",
   "metadata": {},
   "source": [
    "change the path based on the season"
   ]
  },
  {
   "cell_type": "code",
   "execution_count": null,
   "metadata": {},
   "outputs": [],
   "source": [
    "dfToCompletion.to_csv(os.path.join(DATA_PATH, 'dataset_player_match_season_2017_2018_featuresextracted.csv'), index = False)"
   ]
  },
  {
   "cell_type": "code",
   "execution_count": null,
   "metadata": {},
   "outputs": [],
   "source": []
  }
 ],
 "metadata": {
  "kernelspec": {
   "display_name": "Python 3",
   "language": "python",
   "name": "python3"
  },
  "language_info": {
   "codemirror_mode": {
    "name": "ipython",
    "version": 3
   },
   "file_extension": ".py",
   "mimetype": "text/x-python",
   "name": "python",
   "nbconvert_exporter": "python",
   "pygments_lexer": "ipython3",
   "version": "3.7.6"
  }
 },
 "nbformat": 4,
 "nbformat_minor": 2
}
